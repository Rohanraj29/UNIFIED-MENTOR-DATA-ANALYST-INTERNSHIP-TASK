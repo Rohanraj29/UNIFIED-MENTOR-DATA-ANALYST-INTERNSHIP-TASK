{
 "cells": [
  {
   "cell_type": "code",
   "execution_count": 1,
   "id": "976f5305-7d78-4238-a5ad-482ea8e7ed9d",
   "metadata": {},
   "outputs": [
    {
     "data": {
      "text/html": [
       "<div>\n",
       "<style scoped>\n",
       "    .dataframe tbody tr th:only-of-type {\n",
       "        vertical-align: middle;\n",
       "    }\n",
       "\n",
       "    .dataframe tbody tr th {\n",
       "        vertical-align: top;\n",
       "    }\n",
       "\n",
       "    .dataframe thead th {\n",
       "        text-align: right;\n",
       "    }\n",
       "</style>\n",
       "<table border=\"1\" class=\"dataframe\">\n",
       "  <thead>\n",
       "    <tr style=\"text-align: right;\">\n",
       "      <th></th>\n",
       "      <th>date</th>\n",
       "      <th>datetime</th>\n",
       "      <th>cash_type</th>\n",
       "      <th>card</th>\n",
       "      <th>money</th>\n",
       "      <th>coffee_name</th>\n",
       "    </tr>\n",
       "  </thead>\n",
       "  <tbody>\n",
       "    <tr>\n",
       "      <th>0</th>\n",
       "      <td>2024-03-01</td>\n",
       "      <td>2024-03-01 10:15:50.520</td>\n",
       "      <td>card</td>\n",
       "      <td>ANON-0000-0000-0001</td>\n",
       "      <td>38.70</td>\n",
       "      <td>Latte</td>\n",
       "    </tr>\n",
       "    <tr>\n",
       "      <th>1</th>\n",
       "      <td>2024-03-01</td>\n",
       "      <td>2024-03-01 12:19:22.539</td>\n",
       "      <td>card</td>\n",
       "      <td>ANON-0000-0000-0002</td>\n",
       "      <td>38.70</td>\n",
       "      <td>Hot Chocolate</td>\n",
       "    </tr>\n",
       "    <tr>\n",
       "      <th>2</th>\n",
       "      <td>2024-03-01</td>\n",
       "      <td>2024-03-01 12:20:18.089</td>\n",
       "      <td>card</td>\n",
       "      <td>ANON-0000-0000-0002</td>\n",
       "      <td>38.70</td>\n",
       "      <td>Hot Chocolate</td>\n",
       "    </tr>\n",
       "    <tr>\n",
       "      <th>3</th>\n",
       "      <td>2024-03-01</td>\n",
       "      <td>2024-03-01 13:46:33.006</td>\n",
       "      <td>card</td>\n",
       "      <td>ANON-0000-0000-0003</td>\n",
       "      <td>28.90</td>\n",
       "      <td>Americano</td>\n",
       "    </tr>\n",
       "    <tr>\n",
       "      <th>4</th>\n",
       "      <td>2024-03-01</td>\n",
       "      <td>2024-03-01 13:48:14.626</td>\n",
       "      <td>card</td>\n",
       "      <td>ANON-0000-0000-0004</td>\n",
       "      <td>38.70</td>\n",
       "      <td>Latte</td>\n",
       "    </tr>\n",
       "    <tr>\n",
       "      <th>...</th>\n",
       "      <td>...</td>\n",
       "      <td>...</td>\n",
       "      <td>...</td>\n",
       "      <td>...</td>\n",
       "      <td>...</td>\n",
       "      <td>...</td>\n",
       "    </tr>\n",
       "    <tr>\n",
       "      <th>1128</th>\n",
       "      <td>2024-07-31</td>\n",
       "      <td>2024-07-31 20:53:35.077</td>\n",
       "      <td>card</td>\n",
       "      <td>ANON-0000-0000-0443</td>\n",
       "      <td>23.02</td>\n",
       "      <td>Cortado</td>\n",
       "    </tr>\n",
       "    <tr>\n",
       "      <th>1129</th>\n",
       "      <td>2024-07-31</td>\n",
       "      <td>2024-07-31 20:59:25.013</td>\n",
       "      <td>card</td>\n",
       "      <td>ANON-0000-0000-0040</td>\n",
       "      <td>27.92</td>\n",
       "      <td>Americano with Milk</td>\n",
       "    </tr>\n",
       "    <tr>\n",
       "      <th>1130</th>\n",
       "      <td>2024-07-31</td>\n",
       "      <td>2024-07-31 21:26:26.000</td>\n",
       "      <td>card</td>\n",
       "      <td>ANON-0000-0000-0444</td>\n",
       "      <td>32.82</td>\n",
       "      <td>Latte</td>\n",
       "    </tr>\n",
       "    <tr>\n",
       "      <th>1131</th>\n",
       "      <td>2024-07-31</td>\n",
       "      <td>2024-07-31 21:54:11.824</td>\n",
       "      <td>card</td>\n",
       "      <td>ANON-0000-0000-0445</td>\n",
       "      <td>32.82</td>\n",
       "      <td>Latte</td>\n",
       "    </tr>\n",
       "    <tr>\n",
       "      <th>1132</th>\n",
       "      <td>2024-07-31</td>\n",
       "      <td>2024-07-31 21:55:16.570</td>\n",
       "      <td>card</td>\n",
       "      <td>ANON-0000-0000-0446</td>\n",
       "      <td>32.82</td>\n",
       "      <td>Latte</td>\n",
       "    </tr>\n",
       "  </tbody>\n",
       "</table>\n",
       "<p>1133 rows × 6 columns</p>\n",
       "</div>"
      ],
      "text/plain": [
       "            date                 datetime cash_type                 card  \\\n",
       "0     2024-03-01  2024-03-01 10:15:50.520      card  ANON-0000-0000-0001   \n",
       "1     2024-03-01  2024-03-01 12:19:22.539      card  ANON-0000-0000-0002   \n",
       "2     2024-03-01  2024-03-01 12:20:18.089      card  ANON-0000-0000-0002   \n",
       "3     2024-03-01  2024-03-01 13:46:33.006      card  ANON-0000-0000-0003   \n",
       "4     2024-03-01  2024-03-01 13:48:14.626      card  ANON-0000-0000-0004   \n",
       "...          ...                      ...       ...                  ...   \n",
       "1128  2024-07-31  2024-07-31 20:53:35.077      card  ANON-0000-0000-0443   \n",
       "1129  2024-07-31  2024-07-31 20:59:25.013      card  ANON-0000-0000-0040   \n",
       "1130  2024-07-31  2024-07-31 21:26:26.000      card  ANON-0000-0000-0444   \n",
       "1131  2024-07-31  2024-07-31 21:54:11.824      card  ANON-0000-0000-0445   \n",
       "1132  2024-07-31  2024-07-31 21:55:16.570      card  ANON-0000-0000-0446   \n",
       "\n",
       "      money          coffee_name  \n",
       "0     38.70                Latte  \n",
       "1     38.70        Hot Chocolate  \n",
       "2     38.70        Hot Chocolate  \n",
       "3     28.90            Americano  \n",
       "4     38.70                Latte  \n",
       "...     ...                  ...  \n",
       "1128  23.02              Cortado  \n",
       "1129  27.92  Americano with Milk  \n",
       "1130  32.82                Latte  \n",
       "1131  32.82                Latte  \n",
       "1132  32.82                Latte  \n",
       "\n",
       "[1133 rows x 6 columns]"
      ]
     },
     "execution_count": 1,
     "metadata": {},
     "output_type": "execute_result"
    }
   ],
   "source": [
    "import pandas as pd\n",
    "import numpy as np\n",
    "import matplotlib.pyplot as plt\n",
    "import seaborn as sns\n",
    "coffee=pd.read_csv(r\"C:\\Users\\rohan\\Downloads\\index.csv\")\n",
    "coffee"
   ]
  },
  {
   "cell_type": "code",
   "execution_count": 2,
   "id": "fffc6534-c4c2-4b58-82fd-93d9c7cbd684",
   "metadata": {},
   "outputs": [
    {
     "data": {
      "text/html": [
       "<div>\n",
       "<style scoped>\n",
       "    .dataframe tbody tr th:only-of-type {\n",
       "        vertical-align: middle;\n",
       "    }\n",
       "\n",
       "    .dataframe tbody tr th {\n",
       "        vertical-align: top;\n",
       "    }\n",
       "\n",
       "    .dataframe thead th {\n",
       "        text-align: right;\n",
       "    }\n",
       "</style>\n",
       "<table border=\"1\" class=\"dataframe\">\n",
       "  <thead>\n",
       "    <tr style=\"text-align: right;\">\n",
       "      <th></th>\n",
       "      <th>date</th>\n",
       "      <th>datetime</th>\n",
       "      <th>cash_type</th>\n",
       "      <th>card</th>\n",
       "      <th>money</th>\n",
       "      <th>coffee_name</th>\n",
       "    </tr>\n",
       "  </thead>\n",
       "  <tbody>\n",
       "    <tr>\n",
       "      <th>0</th>\n",
       "      <td>2024-03-01</td>\n",
       "      <td>2024-03-01 10:15:50.520</td>\n",
       "      <td>card</td>\n",
       "      <td>ANON-0000-0000-0001</td>\n",
       "      <td>38.7</td>\n",
       "      <td>Latte</td>\n",
       "    </tr>\n",
       "    <tr>\n",
       "      <th>1</th>\n",
       "      <td>2024-03-01</td>\n",
       "      <td>2024-03-01 12:19:22.539</td>\n",
       "      <td>card</td>\n",
       "      <td>ANON-0000-0000-0002</td>\n",
       "      <td>38.7</td>\n",
       "      <td>Hot Chocolate</td>\n",
       "    </tr>\n",
       "    <tr>\n",
       "      <th>2</th>\n",
       "      <td>2024-03-01</td>\n",
       "      <td>2024-03-01 12:20:18.089</td>\n",
       "      <td>card</td>\n",
       "      <td>ANON-0000-0000-0002</td>\n",
       "      <td>38.7</td>\n",
       "      <td>Hot Chocolate</td>\n",
       "    </tr>\n",
       "    <tr>\n",
       "      <th>3</th>\n",
       "      <td>2024-03-01</td>\n",
       "      <td>2024-03-01 13:46:33.006</td>\n",
       "      <td>card</td>\n",
       "      <td>ANON-0000-0000-0003</td>\n",
       "      <td>28.9</td>\n",
       "      <td>Americano</td>\n",
       "    </tr>\n",
       "    <tr>\n",
       "      <th>4</th>\n",
       "      <td>2024-03-01</td>\n",
       "      <td>2024-03-01 13:48:14.626</td>\n",
       "      <td>card</td>\n",
       "      <td>ANON-0000-0000-0004</td>\n",
       "      <td>38.7</td>\n",
       "      <td>Latte</td>\n",
       "    </tr>\n",
       "  </tbody>\n",
       "</table>\n",
       "</div>"
      ],
      "text/plain": [
       "         date                 datetime cash_type                 card  money  \\\n",
       "0  2024-03-01  2024-03-01 10:15:50.520      card  ANON-0000-0000-0001   38.7   \n",
       "1  2024-03-01  2024-03-01 12:19:22.539      card  ANON-0000-0000-0002   38.7   \n",
       "2  2024-03-01  2024-03-01 12:20:18.089      card  ANON-0000-0000-0002   38.7   \n",
       "3  2024-03-01  2024-03-01 13:46:33.006      card  ANON-0000-0000-0003   28.9   \n",
       "4  2024-03-01  2024-03-01 13:48:14.626      card  ANON-0000-0000-0004   38.7   \n",
       "\n",
       "     coffee_name  \n",
       "0          Latte  \n",
       "1  Hot Chocolate  \n",
       "2  Hot Chocolate  \n",
       "3      Americano  \n",
       "4          Latte  "
      ]
     },
     "execution_count": 2,
     "metadata": {},
     "output_type": "execute_result"
    }
   ],
   "source": [
    "coffee.head()"
   ]
  },
  {
   "cell_type": "code",
   "execution_count": 3,
   "id": "340c62ba-8f3e-4ff3-ab71-e9e8212bb906",
   "metadata": {},
   "outputs": [
    {
     "data": {
      "text/html": [
       "<div>\n",
       "<style scoped>\n",
       "    .dataframe tbody tr th:only-of-type {\n",
       "        vertical-align: middle;\n",
       "    }\n",
       "\n",
       "    .dataframe tbody tr th {\n",
       "        vertical-align: top;\n",
       "    }\n",
       "\n",
       "    .dataframe thead th {\n",
       "        text-align: right;\n",
       "    }\n",
       "</style>\n",
       "<table border=\"1\" class=\"dataframe\">\n",
       "  <thead>\n",
       "    <tr style=\"text-align: right;\">\n",
       "      <th></th>\n",
       "      <th>date</th>\n",
       "      <th>datetime</th>\n",
       "      <th>cash_type</th>\n",
       "      <th>card</th>\n",
       "      <th>money</th>\n",
       "      <th>coffee_name</th>\n",
       "    </tr>\n",
       "  </thead>\n",
       "  <tbody>\n",
       "    <tr>\n",
       "      <th>1128</th>\n",
       "      <td>2024-07-31</td>\n",
       "      <td>2024-07-31 20:53:35.077</td>\n",
       "      <td>card</td>\n",
       "      <td>ANON-0000-0000-0443</td>\n",
       "      <td>23.02</td>\n",
       "      <td>Cortado</td>\n",
       "    </tr>\n",
       "    <tr>\n",
       "      <th>1129</th>\n",
       "      <td>2024-07-31</td>\n",
       "      <td>2024-07-31 20:59:25.013</td>\n",
       "      <td>card</td>\n",
       "      <td>ANON-0000-0000-0040</td>\n",
       "      <td>27.92</td>\n",
       "      <td>Americano with Milk</td>\n",
       "    </tr>\n",
       "    <tr>\n",
       "      <th>1130</th>\n",
       "      <td>2024-07-31</td>\n",
       "      <td>2024-07-31 21:26:26.000</td>\n",
       "      <td>card</td>\n",
       "      <td>ANON-0000-0000-0444</td>\n",
       "      <td>32.82</td>\n",
       "      <td>Latte</td>\n",
       "    </tr>\n",
       "    <tr>\n",
       "      <th>1131</th>\n",
       "      <td>2024-07-31</td>\n",
       "      <td>2024-07-31 21:54:11.824</td>\n",
       "      <td>card</td>\n",
       "      <td>ANON-0000-0000-0445</td>\n",
       "      <td>32.82</td>\n",
       "      <td>Latte</td>\n",
       "    </tr>\n",
       "    <tr>\n",
       "      <th>1132</th>\n",
       "      <td>2024-07-31</td>\n",
       "      <td>2024-07-31 21:55:16.570</td>\n",
       "      <td>card</td>\n",
       "      <td>ANON-0000-0000-0446</td>\n",
       "      <td>32.82</td>\n",
       "      <td>Latte</td>\n",
       "    </tr>\n",
       "  </tbody>\n",
       "</table>\n",
       "</div>"
      ],
      "text/plain": [
       "            date                 datetime cash_type                 card  \\\n",
       "1128  2024-07-31  2024-07-31 20:53:35.077      card  ANON-0000-0000-0443   \n",
       "1129  2024-07-31  2024-07-31 20:59:25.013      card  ANON-0000-0000-0040   \n",
       "1130  2024-07-31  2024-07-31 21:26:26.000      card  ANON-0000-0000-0444   \n",
       "1131  2024-07-31  2024-07-31 21:54:11.824      card  ANON-0000-0000-0445   \n",
       "1132  2024-07-31  2024-07-31 21:55:16.570      card  ANON-0000-0000-0446   \n",
       "\n",
       "      money          coffee_name  \n",
       "1128  23.02              Cortado  \n",
       "1129  27.92  Americano with Milk  \n",
       "1130  32.82                Latte  \n",
       "1131  32.82                Latte  \n",
       "1132  32.82                Latte  "
      ]
     },
     "execution_count": 3,
     "metadata": {},
     "output_type": "execute_result"
    }
   ],
   "source": [
    "coffee.tail()"
   ]
  },
  {
   "cell_type": "code",
   "execution_count": 7,
   "id": "8501da27-3710-4870-a204-5b716585dc83",
   "metadata": {},
   "outputs": [
    {
     "data": {
      "text/plain": [
       "date            0\n",
       "datetime        0\n",
       "cash_type       0\n",
       "card           89\n",
       "money           0\n",
       "coffee_name     0\n",
       "dtype: int64"
      ]
     },
     "execution_count": 7,
     "metadata": {},
     "output_type": "execute_result"
    }
   ],
   "source": [
    "# checking for null values\n",
    "coffee.isnull().sum()"
   ]
  },
  {
   "cell_type": "code",
   "execution_count": 8,
   "id": "fb7338fb-c5a1-49c1-ba37-d88ac3e2ed51",
   "metadata": {},
   "outputs": [
    {
     "data": {
      "text/plain": [
       "0"
      ]
     },
     "execution_count": 8,
     "metadata": {},
     "output_type": "execute_result"
    }
   ],
   "source": [
    "# checking for duplicates value\n",
    "coffee.duplicated().sum()"
   ]
  },
  {
   "cell_type": "code",
   "execution_count": 12,
   "id": "5f0b5215-3704-446c-8efc-6f3f520f2990",
   "metadata": {},
   "outputs": [
    {
     "data": {
      "text/plain": [
       "Index(['date', 'datetime', 'cash_type', 'money', 'coffee_name'], dtype='object')"
      ]
     },
     "execution_count": 12,
     "metadata": {},
     "output_type": "execute_result"
    }
   ],
   "source": [
    "# Checking for columns name in the dataset\n",
    "coffee.columns"
   ]
  },
  {
   "cell_type": "code",
   "execution_count": 10,
   "id": "7b0dae53-1a81-499d-b104-85691c757a2c",
   "metadata": {},
   "outputs": [],
   "source": [
    "# Now we can replace the unnecessary columns\n",
    "coffee.drop(\"card\",axis=1,inplace=True)"
   ]
  },
  {
   "cell_type": "code",
   "execution_count": 11,
   "id": "53c280e6-4952-464e-ba79-824c4e7cd32c",
   "metadata": {},
   "outputs": [
    {
     "data": {
      "text/html": [
       "<div>\n",
       "<style scoped>\n",
       "    .dataframe tbody tr th:only-of-type {\n",
       "        vertical-align: middle;\n",
       "    }\n",
       "\n",
       "    .dataframe tbody tr th {\n",
       "        vertical-align: top;\n",
       "    }\n",
       "\n",
       "    .dataframe thead th {\n",
       "        text-align: right;\n",
       "    }\n",
       "</style>\n",
       "<table border=\"1\" class=\"dataframe\">\n",
       "  <thead>\n",
       "    <tr style=\"text-align: right;\">\n",
       "      <th></th>\n",
       "      <th>date</th>\n",
       "      <th>datetime</th>\n",
       "      <th>cash_type</th>\n",
       "      <th>money</th>\n",
       "      <th>coffee_name</th>\n",
       "    </tr>\n",
       "  </thead>\n",
       "  <tbody>\n",
       "    <tr>\n",
       "      <th>0</th>\n",
       "      <td>2024-03-01</td>\n",
       "      <td>2024-03-01 10:15:50.520</td>\n",
       "      <td>card</td>\n",
       "      <td>38.7</td>\n",
       "      <td>Latte</td>\n",
       "    </tr>\n",
       "    <tr>\n",
       "      <th>1</th>\n",
       "      <td>2024-03-01</td>\n",
       "      <td>2024-03-01 12:19:22.539</td>\n",
       "      <td>card</td>\n",
       "      <td>38.7</td>\n",
       "      <td>Hot Chocolate</td>\n",
       "    </tr>\n",
       "    <tr>\n",
       "      <th>2</th>\n",
       "      <td>2024-03-01</td>\n",
       "      <td>2024-03-01 12:20:18.089</td>\n",
       "      <td>card</td>\n",
       "      <td>38.7</td>\n",
       "      <td>Hot Chocolate</td>\n",
       "    </tr>\n",
       "    <tr>\n",
       "      <th>3</th>\n",
       "      <td>2024-03-01</td>\n",
       "      <td>2024-03-01 13:46:33.006</td>\n",
       "      <td>card</td>\n",
       "      <td>28.9</td>\n",
       "      <td>Americano</td>\n",
       "    </tr>\n",
       "    <tr>\n",
       "      <th>4</th>\n",
       "      <td>2024-03-01</td>\n",
       "      <td>2024-03-01 13:48:14.626</td>\n",
       "      <td>card</td>\n",
       "      <td>38.7</td>\n",
       "      <td>Latte</td>\n",
       "    </tr>\n",
       "  </tbody>\n",
       "</table>\n",
       "</div>"
      ],
      "text/plain": [
       "         date                 datetime cash_type  money    coffee_name\n",
       "0  2024-03-01  2024-03-01 10:15:50.520      card   38.7          Latte\n",
       "1  2024-03-01  2024-03-01 12:19:22.539      card   38.7  Hot Chocolate\n",
       "2  2024-03-01  2024-03-01 12:20:18.089      card   38.7  Hot Chocolate\n",
       "3  2024-03-01  2024-03-01 13:46:33.006      card   28.9      Americano\n",
       "4  2024-03-01  2024-03-01 13:48:14.626      card   38.7          Latte"
      ]
     },
     "execution_count": 11,
     "metadata": {},
     "output_type": "execute_result"
    }
   ],
   "source": [
    "# Checking whether the column is deleted or not\n",
    "coffee.head()"
   ]
  },
  {
   "cell_type": "code",
   "execution_count": 17,
   "id": "b40dfefa-f173-42dc-89a6-a6724c405382",
   "metadata": {},
   "outputs": [],
   "source": [
    "# Now we can add one more column of year\n",
    "coffee[\"Year\"]=coffee[\"date\"].dt.year"
   ]
  },
  {
   "cell_type": "code",
   "execution_count": 27,
   "id": "b9d51f8d-2c53-4825-aa43-fa4070c6143e",
   "metadata": {},
   "outputs": [],
   "source": [
    "# Now we can add one more column of month\n",
    "coffee[\"Month\"]=coffee[\"date\"].dt.month_name()"
   ]
  },
  {
   "cell_type": "code",
   "execution_count": 28,
   "id": "349af04c-060e-4ac5-9af9-c417349c6da7",
   "metadata": {},
   "outputs": [
    {
     "name": "stdout",
     "output_type": "stream",
     "text": [
      "<class 'pandas.core.frame.DataFrame'>\n",
      "RangeIndex: 1133 entries, 0 to 1132\n",
      "Data columns (total 7 columns):\n",
      " #   Column       Non-Null Count  Dtype         \n",
      "---  ------       --------------  -----         \n",
      " 0   date         1133 non-null   datetime64[ns]\n",
      " 1   datetime     1133 non-null   object        \n",
      " 2   cash_type    1133 non-null   object        \n",
      " 3   money        1133 non-null   float64       \n",
      " 4   coffee_name  1133 non-null   object        \n",
      " 5   Year         1133 non-null   int32         \n",
      " 6   Month        1133 non-null   object        \n",
      "dtypes: datetime64[ns](1), float64(1), int32(1), object(4)\n",
      "memory usage: 57.7+ KB\n"
     ]
    }
   ],
   "source": [
    "coffee.info()"
   ]
  },
  {
   "cell_type": "code",
   "execution_count": 29,
   "id": "3cd55f4e-1a2b-490e-908a-49c8927b1860",
   "metadata": {},
   "outputs": [
    {
     "data": {
      "text/plain": [
       "date           datetime64[ns]\n",
       "datetime               object\n",
       "cash_type              object\n",
       "money                 float64\n",
       "coffee_name            object\n",
       "Year                    int32\n",
       "Month                  object\n",
       "dtype: object"
      ]
     },
     "execution_count": 29,
     "metadata": {},
     "output_type": "execute_result"
    }
   ],
   "source": [
    "coffee.dtypes"
   ]
  },
  {
   "cell_type": "code",
   "execution_count": 30,
   "id": "0f4cad49-3e22-406b-ac15-1a6316bbe556",
   "metadata": {},
   "outputs": [],
   "source": [
    "coffee['date'] = pd.to_datetime(coffee['date'], errors='coerce')"
   ]
  },
  {
   "cell_type": "code",
   "execution_count": 31,
   "id": "7afd8216-b7a1-4fbd-b24c-9a0c14037638",
   "metadata": {},
   "outputs": [
    {
     "data": {
      "text/plain": [
       "date           datetime64[ns]\n",
       "datetime               object\n",
       "cash_type              object\n",
       "money                 float64\n",
       "coffee_name            object\n",
       "Year                    int32\n",
       "Month                  object\n",
       "dtype: object"
      ]
     },
     "execution_count": 31,
     "metadata": {},
     "output_type": "execute_result"
    }
   ],
   "source": [
    "coffee.dtypes"
   ]
  },
  {
   "cell_type": "code",
   "execution_count": 32,
   "id": "e1eed06e-2d6c-469f-969d-1eb6ac1ef804",
   "metadata": {},
   "outputs": [
    {
     "data": {
      "text/html": [
       "<div>\n",
       "<style scoped>\n",
       "    .dataframe tbody tr th:only-of-type {\n",
       "        vertical-align: middle;\n",
       "    }\n",
       "\n",
       "    .dataframe tbody tr th {\n",
       "        vertical-align: top;\n",
       "    }\n",
       "\n",
       "    .dataframe thead th {\n",
       "        text-align: right;\n",
       "    }\n",
       "</style>\n",
       "<table border=\"1\" class=\"dataframe\">\n",
       "  <thead>\n",
       "    <tr style=\"text-align: right;\">\n",
       "      <th></th>\n",
       "      <th>date</th>\n",
       "      <th>datetime</th>\n",
       "      <th>cash_type</th>\n",
       "      <th>money</th>\n",
       "      <th>coffee_name</th>\n",
       "      <th>Year</th>\n",
       "      <th>Month</th>\n",
       "    </tr>\n",
       "  </thead>\n",
       "  <tbody>\n",
       "    <tr>\n",
       "      <th>0</th>\n",
       "      <td>2024-03-01</td>\n",
       "      <td>2024-03-01 10:15:50.520</td>\n",
       "      <td>card</td>\n",
       "      <td>38.7</td>\n",
       "      <td>Latte</td>\n",
       "      <td>2024</td>\n",
       "      <td>March</td>\n",
       "    </tr>\n",
       "    <tr>\n",
       "      <th>1</th>\n",
       "      <td>2024-03-01</td>\n",
       "      <td>2024-03-01 12:19:22.539</td>\n",
       "      <td>card</td>\n",
       "      <td>38.7</td>\n",
       "      <td>Hot Chocolate</td>\n",
       "      <td>2024</td>\n",
       "      <td>March</td>\n",
       "    </tr>\n",
       "    <tr>\n",
       "      <th>2</th>\n",
       "      <td>2024-03-01</td>\n",
       "      <td>2024-03-01 12:20:18.089</td>\n",
       "      <td>card</td>\n",
       "      <td>38.7</td>\n",
       "      <td>Hot Chocolate</td>\n",
       "      <td>2024</td>\n",
       "      <td>March</td>\n",
       "    </tr>\n",
       "    <tr>\n",
       "      <th>3</th>\n",
       "      <td>2024-03-01</td>\n",
       "      <td>2024-03-01 13:46:33.006</td>\n",
       "      <td>card</td>\n",
       "      <td>28.9</td>\n",
       "      <td>Americano</td>\n",
       "      <td>2024</td>\n",
       "      <td>March</td>\n",
       "    </tr>\n",
       "    <tr>\n",
       "      <th>4</th>\n",
       "      <td>2024-03-01</td>\n",
       "      <td>2024-03-01 13:48:14.626</td>\n",
       "      <td>card</td>\n",
       "      <td>38.7</td>\n",
       "      <td>Latte</td>\n",
       "      <td>2024</td>\n",
       "      <td>March</td>\n",
       "    </tr>\n",
       "  </tbody>\n",
       "</table>\n",
       "</div>"
      ],
      "text/plain": [
       "        date                 datetime cash_type  money    coffee_name  Year  \\\n",
       "0 2024-03-01  2024-03-01 10:15:50.520      card   38.7          Latte  2024   \n",
       "1 2024-03-01  2024-03-01 12:19:22.539      card   38.7  Hot Chocolate  2024   \n",
       "2 2024-03-01  2024-03-01 12:20:18.089      card   38.7  Hot Chocolate  2024   \n",
       "3 2024-03-01  2024-03-01 13:46:33.006      card   28.9      Americano  2024   \n",
       "4 2024-03-01  2024-03-01 13:48:14.626      card   38.7          Latte  2024   \n",
       "\n",
       "   Month  \n",
       "0  March  \n",
       "1  March  \n",
       "2  March  \n",
       "3  March  \n",
       "4  March  "
      ]
     },
     "execution_count": 32,
     "metadata": {},
     "output_type": "execute_result"
    }
   ],
   "source": [
    "coffee.head()"
   ]
  },
  {
   "cell_type": "markdown",
   "id": "a746892e-b93f-473c-9cb9-19b89e629a46",
   "metadata": {},
   "source": [
    "# STEP 3:- QUICK OVERVIEW OF DATA"
   ]
  },
  {
   "cell_type": "code",
   "execution_count": 33,
   "id": "1e4c79cb-7721-44d7-a4ef-4621b6faa88b",
   "metadata": {},
   "outputs": [
    {
     "data": {
      "text/html": [
       "<div>\n",
       "<style scoped>\n",
       "    .dataframe tbody tr th:only-of-type {\n",
       "        vertical-align: middle;\n",
       "    }\n",
       "\n",
       "    .dataframe tbody tr th {\n",
       "        vertical-align: top;\n",
       "    }\n",
       "\n",
       "    .dataframe thead th {\n",
       "        text-align: right;\n",
       "    }\n",
       "</style>\n",
       "<table border=\"1\" class=\"dataframe\">\n",
       "  <thead>\n",
       "    <tr style=\"text-align: right;\">\n",
       "      <th></th>\n",
       "      <th>date</th>\n",
       "      <th>money</th>\n",
       "      <th>Year</th>\n",
       "    </tr>\n",
       "  </thead>\n",
       "  <tbody>\n",
       "    <tr>\n",
       "      <th>count</th>\n",
       "      <td>1133</td>\n",
       "      <td>1133.000000</td>\n",
       "      <td>1133.0</td>\n",
       "    </tr>\n",
       "    <tr>\n",
       "      <th>mean</th>\n",
       "      <td>2024-05-19 11:36:29.232127232</td>\n",
       "      <td>33.105808</td>\n",
       "      <td>2024.0</td>\n",
       "    </tr>\n",
       "    <tr>\n",
       "      <th>min</th>\n",
       "      <td>2024-03-01 00:00:00</td>\n",
       "      <td>18.120000</td>\n",
       "      <td>2024.0</td>\n",
       "    </tr>\n",
       "    <tr>\n",
       "      <th>25%</th>\n",
       "      <td>2024-04-14 00:00:00</td>\n",
       "      <td>28.900000</td>\n",
       "      <td>2024.0</td>\n",
       "    </tr>\n",
       "    <tr>\n",
       "      <th>50%</th>\n",
       "      <td>2024-05-23 00:00:00</td>\n",
       "      <td>32.820000</td>\n",
       "      <td>2024.0</td>\n",
       "    </tr>\n",
       "    <tr>\n",
       "      <th>75%</th>\n",
       "      <td>2024-06-22 00:00:00</td>\n",
       "      <td>37.720000</td>\n",
       "      <td>2024.0</td>\n",
       "    </tr>\n",
       "    <tr>\n",
       "      <th>max</th>\n",
       "      <td>2024-07-31 00:00:00</td>\n",
       "      <td>40.000000</td>\n",
       "      <td>2024.0</td>\n",
       "    </tr>\n",
       "    <tr>\n",
       "      <th>std</th>\n",
       "      <td>NaN</td>\n",
       "      <td>5.035366</td>\n",
       "      <td>0.0</td>\n",
       "    </tr>\n",
       "  </tbody>\n",
       "</table>\n",
       "</div>"
      ],
      "text/plain": [
       "                                date        money    Year\n",
       "count                           1133  1133.000000  1133.0\n",
       "mean   2024-05-19 11:36:29.232127232    33.105808  2024.0\n",
       "min              2024-03-01 00:00:00    18.120000  2024.0\n",
       "25%              2024-04-14 00:00:00    28.900000  2024.0\n",
       "50%              2024-05-23 00:00:00    32.820000  2024.0\n",
       "75%              2024-06-22 00:00:00    37.720000  2024.0\n",
       "max              2024-07-31 00:00:00    40.000000  2024.0\n",
       "std                              NaN     5.035366     0.0"
      ]
     },
     "execution_count": 33,
     "metadata": {},
     "output_type": "execute_result"
    }
   ],
   "source": [
    "coffee.describe()"
   ]
  },
  {
   "cell_type": "code",
   "execution_count": 34,
   "id": "b7019f73-fe16-4186-a5eb-c3d9961582ce",
   "metadata": {},
   "outputs": [
    {
     "data": {
      "text/plain": [
       "Year\n",
       "2024    1133\n",
       "Name: count, dtype: int64"
      ]
     },
     "execution_count": 34,
     "metadata": {},
     "output_type": "execute_result"
    }
   ],
   "source": [
    "coffee.Year.value_counts()"
   ]
  },
  {
   "cell_type": "code",
   "execution_count": 35,
   "id": "e65478de-7877-45f2-8f62-fe6c57061fe1",
   "metadata": {},
   "outputs": [
    {
     "data": {
      "text/plain": [
       "Month\n",
       "May      267\n",
       "July     237\n",
       "June     227\n",
       "March    206\n",
       "April    196\n",
       "Name: count, dtype: int64"
      ]
     },
     "execution_count": 35,
     "metadata": {},
     "output_type": "execute_result"
    }
   ],
   "source": [
    "coffee.Month.value_counts()"
   ]
  },
  {
   "cell_type": "code",
   "execution_count": 36,
   "id": "b96f8168-78b6-4193-9227-99ec12f783cc",
   "metadata": {},
   "outputs": [
    {
     "data": {
      "text/plain": [
       "coffee_name\n",
       "Americano with Milk    268\n",
       "Latte                  243\n",
       "Cappuccino             196\n",
       "Americano              169\n",
       "Cortado                 99\n",
       "Hot Chocolate           74\n",
       "Espresso                49\n",
       "Cocoa                   35\n",
       "Name: count, dtype: int64"
      ]
     },
     "execution_count": 36,
     "metadata": {},
     "output_type": "execute_result"
    }
   ],
   "source": [
    "coffee.coffee_name.value_counts()"
   ]
  },
  {
   "cell_type": "markdown",
   "id": "1e23fce7-839c-42fa-aa8e-64864e473448",
   "metadata": {},
   "source": [
    "# STEP 4:- DATA VISUALIZATION AND EDA"
   ]
  },
  {
   "cell_type": "code",
   "execution_count": 37,
   "id": "1d87c8a7-8a74-468e-bdfc-979d844a74ac",
   "metadata": {},
   "outputs": [
    {
     "data": {
      "text/plain": [
       "37508.880000000005"
      ]
     },
     "execution_count": 37,
     "metadata": {},
     "output_type": "execute_result"
    }
   ],
   "source": [
    "# Calculate the total sales\n",
    "coffee[\"money\"].sum()"
   ]
  },
  {
   "cell_type": "code",
   "execution_count": 38,
   "id": "ff080baa-692d-4bbc-92f0-dcb063881065",
   "metadata": {},
   "outputs": [
    {
     "data": {
      "text/plain": [
       "1133"
      ]
     },
     "execution_count": 38,
     "metadata": {},
     "output_type": "execute_result"
    }
   ],
   "source": [
    " # find the total quantity sold\n",
    "coffee[\"money\"].count()"
   ]
  },
  {
   "cell_type": "code",
   "execution_count": 43,
   "id": "0baa0ca0-e591-4f5f-a506-8e6f800c1237",
   "metadata": {},
   "outputs": [
    {
     "data": {
      "image/png": "[encoded data removed]",
      "text/plain": [
       "<Figure size 640x480 with 1 Axes>"
      ]
     },
     "metadata": {},
     "output_type": "display_data"
    }
   ],
   "source": [
    "sns.countplot(x=\"cash_type\",data=coffee)\n",
    "plt.title(\"Count of Payment by Cash_type\")\n",
    "plt.show()"
   ]
  },
  {
   "cell_type": "code",
   "execution_count": null,
   "id": "f435dd9a-bd6d-4a5f-a82f-381b99172f2a",
   "metadata": {},
   "outputs": [],
   "source": [
    "# It shows that most of the customer prefer card mode for payment"
   ]
  },
  {
   "cell_type": "code",
   "execution_count": null,
   "id": "53652115-cf47-4159-be0d-29fd06edae78",
   "metadata": {},
   "outputs": [],
   "source": [
    "# Find the total sales by cash_type"
   ]
  },
  {
   "cell_type": "code",
   "execution_count": 45,
   "id": "b241020b-4167-4998-bd9e-abf70018ac0b",
   "metadata": {},
   "outputs": [],
   "source": [
    "sales=coffee.groupby(\"cash_type\")[\"money\"].sum()\n",
    "x=sales.index\n",
    "y=sales.values"
   ]
  },
  {
   "cell_type": "code",
   "execution_count": 48,
   "id": "acd7639d-6ec3-424f-a506-b5548a0d88be",
   "metadata": {},
   "outputs": [
    {
     "data": {
      "image/png": "[encoded data removed]",
      "text/plain": [
       "<Figure size 640x480 with 1 Axes>"
      ]
     },
     "metadata": {},
     "output_type": "display_data"
    }
   ],
   "source": [
    "plt.bar(x,y,color=[\"blue\",\"yellow\"])\n",
    "plt.xlabel(\"Cash Type\")\n",
    "plt.ylabel(\"Sales\")\n",
    "plt.title(\"Total sales by Cash Type\")\n",
    "plt.show()"
   ]
  },
  {
   "cell_type": "code",
   "execution_count": null,
   "id": "39ab7c2e-a686-4494-8c06-db4adcd4a583",
   "metadata": {},
   "outputs": [],
   "source": [
    "# It shows that most of the payment are done by Cash"
   ]
  },
  {
   "cell_type": "code",
   "execution_count": null,
   "id": "d700f56d-f846-4781-a7b8-5e0d6a6bc2a9",
   "metadata": {},
   "outputs": [],
   "source": [
    "# Find the total sales by Month"
   ]
  },
  {
   "cell_type": "code",
   "execution_count": 51,
   "id": "ba881e9e-df00-432c-886a-d65103f7a9c9",
   "metadata": {},
   "outputs": [
    {
     "data": {
      "text/plain": [
       "Month\n",
       "April    6720.56\n",
       "July     6915.94\n",
       "June     7758.76\n",
       "March    7050.20\n",
       "May      9063.42\n",
       "Name: money, dtype: float64"
      ]
     },
     "execution_count": 51,
     "metadata": {},
     "output_type": "execute_result"
    }
   ],
   "source": [
    "months=coffee.groupby(\"Month\")[\"money\"].sum()\n",
    "months"
   ]
  },
  {
   "cell_type": "code",
   "execution_count": 54,
   "id": "c064070e-a631-43b9-988a-64e064c0a11e",
   "metadata": {},
   "outputs": [],
   "source": [
    "i=months.index\n",
    "v=months.values"
   ]
  },
  {
   "cell_type": "code",
   "execution_count": 55,
   "id": "8dfc90cf-51f0-4688-af5c-13afa3dd5534",
   "metadata": {},
   "outputs": [
    {
     "data": {
      "image/png": "[encoded data removed]",
      "text/plain": [
       "<Figure size 640x480 with 1 Axes>"
      ]
     },
     "metadata": {},
     "output_type": "display_data"
    }
   ],
   "source": [
    "plt.bar(i,v)\n",
    "plt.show()"
   ]
  },
  {
   "cell_type": "code",
   "execution_count": null,
   "id": "489b05da-72e5-40f8-8372-3ba6f8276b21",
   "metadata": {},
   "outputs": [],
   "source": [
    "# The given data shows that most of the sales are done in May"
   ]
  },
  {
   "cell_type": "code",
   "execution_count": 62,
   "id": "4fbbaf88-c5de-44de-861a-d9473ab7a9a1",
   "metadata": {},
   "outputs": [
    {
     "data": {
      "image/png": "[encoded data removed]",
      "text/plain": [
       "<Figure size 640x480 with 1 Axes>"
      ]
     },
     "metadata": {},
     "output_type": "display_data"
    }
   ],
   "source": [
    "sns.barplot(x=\"Month\",y=\"money\",estimator=sum,data=coffee,hue=\"cash_type\")\n",
    "plt.xticks(rotation=90)\n",
    "plt.title(\"Total sales by Month based on cash type\")\n",
    "plt.show()"
   ]
  },
  {
   "cell_type": "code",
   "execution_count": 66,
   "id": "e32dbf86-d7f4-4ff6-93fb-2cc787f719d6",
   "metadata": {},
   "outputs": [
    {
     "data": {
      "image/png": "[encoded data removed]",
      "text/plain": [
       "<Figure size 640x480 with 1 Axes>"
      ]
     },
     "metadata": {},
     "output_type": "display_data"
    }
   ],
   "source": [
    "sns.barplot(x=\"coffee_name\",y=\"money\",estimator=sum,data=coffee)\n",
    "plt.xticks(rotation=90)\n",
    "plt.title(\"Total Sales By Coffee Type\")\n",
    "plt.show()"
   ]
  },
  {
   "cell_type": "code",
   "execution_count": null,
   "id": "0ea52f9f-686b-4c3c-a765-468dfff5e381",
   "metadata": {},
   "outputs": [],
   "source": []
  }
 ],
 "metadata": {
  "kernelspec": {
   "display_name": "Python 3 (ipykernel)",
   "language": "python",
   "name": "python3"
  },
  "language_info": {
   "codemirror_mode": {
    "name": "ipython",
    "version": 3
   },
   "file_extension": ".py",
   "mimetype": "text/x-python",
   "name": "python",
   "nbconvert_exporter": "python",
   "pygments_lexer": "ipython3",
   "version": "3.12.7"
  }
 },
 "nbformat": 4,
 "nbformat_minor": 5
}
